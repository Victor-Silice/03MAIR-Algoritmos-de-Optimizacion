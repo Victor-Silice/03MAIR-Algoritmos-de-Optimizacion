{
  "nbformat": 4,
  "nbformat_minor": 0,
  "metadata": {
    "colab": {
      "name": "03MAIR-Algoritmos de Optimización AG1.ipynb",
      "provenance": [],
      "collapsed_sections": [],
      "authorship_tag": "ABX9TyNRME5iwFdFjbYyUQqRytas",
      "include_colab_link": true
    },
    "kernelspec": {
      "name": "python3",
      "display_name": "Python 3"
    }
  },
  "cells": [
    {
      "cell_type": "markdown",
      "metadata": {
        "id": "view-in-github",
        "colab_type": "text"
      },
      "source": [
        "<a href=\"https://colab.research.google.com/github/Victor-Silice/03MAIR-Algoritmos-de-Optimizacion/blob/main/AG1/03MAIR_Algoritmos_de_Optimizaci%C3%B3n_AG1.ipynb\" target=\"_parent\"><img src=\"https://colab.research.google.com/assets/colab-badge.svg\" alt=\"Open In Colab\"/></a>"
      ]
    },
    {
      "cell_type": "code",
      "metadata": {
        "id": "BO9T3w509iQy"
      },
      "source": [
        "Actividad guiada 1\r\n",
        "Victor Ruiz\r\n",
        "https://colab.research.google.com/drive/1lj53c6MbPho0Z4gpMKhXCba_i5cOChj-?usp=sharing\r\n"
      ],
      "execution_count": 23,
      "outputs": []
    },
    {
      "cell_type": "code",
      "metadata": {
        "id": "a5zPdM_XmNQM",
        "colab": {
          "base_uri": "https://localhost:8080/"
        },
        "outputId": "c689b639-c8c4-4e26-8293-45d06f487bed"
      },
      "source": [
        "#Torres de Hanoi  \r\n",
        "import math\r\n",
        "import timeit\r\n",
        "import numpy as np\r\n",
        "\r\n",
        "Discos = 5\r\n",
        "\r\n",
        "Columna_Origen, Columna_Auxiliar, Columna_Destino = [], [], []\r\n",
        "\r\n",
        "def TorreHanoi(Piezas):\r\n",
        "  Hanoi(Piezas, \"INI\", \"AUX\", \"FIN\", Columna_Origen)\r\n",
        "\r\n",
        "def Hanoi(discos,Origen,Auxiliar,Destino, Columna_Origen):\r\n",
        "   \r\n",
        "  if discos==1:\r\n",
        "    print (Origen,\"a\",Destino)\r\n",
        "\r\n",
        "  if discos != 1:\r\n",
        "    Hanoi(discos-1,Origen,Destino,Auxiliar, Columna_Origen)\r\n",
        "    print (Origen,\"a\",Destino)\r\n",
        "    Hanoi(discos-1,Auxiliar,Origen,Destino, Columna_Origen)\r\n",
        "    \r\n",
        "  return\r\n",
        "\r\n",
        "TorreHanoi(Discos)\r\n",
        "\r\n"
      ],
      "execution_count": 24,
      "outputs": [
        {
          "output_type": "stream",
          "text": [
            "INI a FIN\n",
            "INI a AUX\n",
            "FIN a AUX\n",
            "INI a FIN\n",
            "AUX a INI\n",
            "AUX a FIN\n",
            "INI a FIN\n",
            "INI a AUX\n",
            "FIN a AUX\n",
            "FIN a INI\n",
            "AUX a INI\n",
            "FIN a AUX\n",
            "INI a FIN\n",
            "INI a AUX\n",
            "FIN a AUX\n",
            "INI a FIN\n",
            "AUX a INI\n",
            "AUX a FIN\n",
            "INI a FIN\n",
            "AUX a INI\n",
            "FIN a AUX\n",
            "FIN a INI\n",
            "AUX a INI\n",
            "AUX a FIN\n",
            "INI a FIN\n",
            "INI a AUX\n",
            "FIN a AUX\n",
            "INI a FIN\n",
            "AUX a INI\n",
            "AUX a FIN\n",
            "INI a FIN\n"
          ],
          "name": "stdout"
        }
      ]
    },
    {
      "cell_type": "code",
      "metadata": {
        "id": "T7ArMU58mflH",
        "colab": {
          "base_uri": "https://localhost:8080/"
        },
        "outputId": "c2409401-cbee-4b7b-9417-eb7d85848795"
      },
      "source": [
        "#Devolucion de cambio\r\n",
        "\r\n",
        "import math\r\n",
        "import timeit\r\n",
        "import numpy as np\r\n",
        "\r\n",
        "Monedas = [50,25,10,5,1]\r\n",
        "\r\n",
        "def Cambio(C, TM):\r\n",
        "  TotalMonedas = 0\r\n",
        "  Cambio_monedas = [0] * len(TM)\r\n",
        "\r\n",
        "  for i,VM in enumerate(TM):\r\n",
        "    monedas = (C - TotalMonedas) // VM\r\n",
        "    Cambio_monedas[i] = monedas\r\n",
        "    TotalMonedas = TotalMonedas + (monedas * VM)\r\n",
        "    print(i, VM, monedas, TotalMonedas)\r\n",
        "    if TotalMonedas == C:\r\n",
        "      return Cambio_monedas , f\"{sum(Cambio_monedas)} Monedas\"\r\n",
        "  \r\n",
        "print(Cambio(28,Monedas))\r\n",
        "\r\n"
      ],
      "execution_count": 25,
      "outputs": [
        {
          "output_type": "stream",
          "text": [
            "0 50 0 0\n",
            "1 25 1 25\n",
            "2 10 0 25\n",
            "3 5 0 25\n",
            "4 1 3 28\n",
            "([0, 1, 0, 0, 3], '4 Monedas')\n"
          ],
          "name": "stdout"
        }
      ]
    },
    {
      "cell_type": "code",
      "metadata": {
        "id": "0Q-A7MmNo7pt",
        "colab": {
          "base_uri": "https://localhost:8080/"
        },
        "outputId": "98c2d71d-ea53-4e8e-96c1-d26e5547b72b"
      },
      "source": [
        "# 4 reinas  \r\n",
        "\r\n",
        "import math\r\n",
        "import timeit\r\n",
        "import numpy as np\r\n",
        "\r\n",
        "def reinas(N, solucion=[], etapa=0):\r\n",
        "  if len(solucion) == 0:\r\n",
        "    solucion=[0 for i in range(N)]\r\n",
        "  for i in range(1,N+1):\r\n",
        "    solucion[etapa] = i\r\n",
        "\r\n",
        "    # print(solucion)\r\n",
        "    if es_prometedora(solucion,etapa):\r\n",
        "      if etapa == N-1:\r\n",
        "        print(f\"\\n\\nLa solucion es: {solucion}\")\r\n",
        "        escribe(solucion)\r\n",
        "      else:\r\n",
        "        reinas(N,solucion,etapa+1)\r\n",
        "    else:\r\n",
        "      None\r\n",
        "    solucion[etapa]= 0\r\n",
        "\r\n",
        "\r\n",
        "def es_prometedora(SOLUCION,etapa):\r\n",
        "  for i in range(etapa+1):\r\n",
        "    if SOLUCION.count(SOLUCION[i]) > 1: return False\r\n",
        "\r\n",
        "    for j in range(i+1,etapa + 1):\r\n",
        "      if abs(i-j) == abs(SOLUCION[i] - SOLUCION[j]) : return False\r\n",
        "  return True\r\n",
        "\r\n",
        "def escribe(S):\r\n",
        "  n = len(S)\r\n",
        "  for x in range(n):\r\n",
        "    print(\"\")\r\n",
        "    for i in range(n):\r\n",
        "      if S[i] == x+1:\r\n",
        "        print(\" X \", end=\"\" )\r\n",
        "      else:\r\n",
        "        print(\" - \", end=\"\")\r\n",
        "\r\n",
        "print (reinas(4, solucion=[], etapa=0))\r\n"
      ],
      "execution_count": 26,
      "outputs": [
        {
          "output_type": "stream",
          "text": [
            "\n",
            "\n",
            "La solucion es: [2, 4, 1, 3]\n",
            "\n",
            " -  -  X  - \n",
            " X  -  -  - \n",
            " -  -  -  X \n",
            " -  X  -  - \n",
            "\n",
            "La solucion es: [3, 1, 4, 2]\n",
            "\n",
            " -  X  -  - \n",
            " -  -  -  X \n",
            " X  -  -  - \n",
            " -  -  X  - None\n"
          ],
          "name": "stdout"
        }
      ]
    },
    {
      "cell_type": "code",
      "metadata": {
        "colab": {
          "base_uri": "https://localhost:8080/"
        },
        "id": "IFKohEJTlw1O",
        "outputId": "5e141292-b916-4bdd-9bb2-ce97e62cee34"
      },
      "source": [
        "# Los puntos mas cercanos en un espacio de 1d\r\n",
        "\r\n",
        "import random\r\n",
        "import math\r\n",
        "import timeit\r\n",
        "import pandas as np\r\n",
        "\r\n",
        "Vector1D = [random.randrange(1,100) for x in range(10)]\r\n",
        "\r\n",
        "def dos_puntos(A):\r\n",
        "    distancia = math.inf    \r\n",
        "    for i in range(len(A)):\r\n",
        "      for j in  range(i+1,len(A)):\r\n",
        "        if abs(A[i]-A[j]) <= distancia:\r\n",
        "          distancia = abs(A[i]-A[j])\r\n",
        "          Punto=(A[i],A[j])\r\n",
        "    return Punto\r\n",
        "\r\n",
        "print(dos_puntos(Vector1D))\r\n",
        "\r\n"
      ],
      "execution_count": 27,
      "outputs": [
        {
          "output_type": "stream",
          "text": [
            "(62, 62)\n"
          ],
          "name": "stdout"
        }
      ]
    },
    {
      "cell_type": "code",
      "metadata": {
        "id": "8WQ02Il8JfUG",
        "colab": {
          "base_uri": "https://localhost:8080/"
        },
        "outputId": "ebc902c8-dbcf-4070-f20f-b3b3e1e441af"
      },
      "source": [
        "# Los puntos mas cercanos en un espacio 2d\r\n",
        "\r\n",
        "import random\r\n",
        "import math\r\n",
        "import timeit\r\n",
        "import pandas as np\r\n",
        "\r\n",
        "Vector2D = [(random.randrange(1,100),random.randrange(1,100)) for x in range(10)]\r\n",
        "\r\n",
        "def distancia(p0, p1):\r\n",
        "  return math.sqrt((((p0[0] - p1[0])**2) + ((p0[1] - p1[1])**2)))\r\n",
        "\r\n",
        "def distancia2D(L):\r\n",
        "  mejor_distancia = math.inf    \r\n",
        "  A,B = (),()\r\n",
        "  for i in range(len(L)):\r\n",
        "    for j in range(i+1,len(L)):\r\n",
        "      D= distancia(L[i],L[j])\r\n",
        "      if D < mejor_distancia:\r\n",
        "        A,B=L[i],L[j]\r\n",
        "        mejor_distancia = D\r\n",
        "  return[A,B,distancia(A, B)]\r\n",
        "\r\n",
        "print(distancia2D(Vector2D))\r\n"
      ],
      "execution_count": 28,
      "outputs": [
        {
          "output_type": "stream",
          "text": [
            "[(66, 5), (63, 8), 4.242640687119285]\n"
          ],
          "name": "stdout"
        }
      ]
    },
    {
      "cell_type": "code",
      "metadata": {
        "id": "8sP6EshtGBhk",
        "colab": {
          "base_uri": "https://localhost:8080/"
        },
        "outputId": "ba02feef-0a60-4136-db54-f1d7c353cf82"
      },
      "source": [
        "# Los puntos mas cercanos en un espacio 3d\r\n",
        "\r\n",
        "import random\r\n",
        "import math\r\n",
        "import timeit\r\n",
        "import pandas as np\r\n",
        "\r\n",
        "Vector3D = [(random.randrange(1,100),random.randrange(1,100),random.randrange(1,100)) for x in range(10)]\r\n",
        "\r\n",
        "def distancia(p0, p1):\r\n",
        "  return math.sqrt((((p0[0] - p1[0])**2) + ((p0[1] - p1[1])**2) + ((p0[2] - p1[2])**2)))\r\n",
        "\r\n",
        "def distancia3D(L):\r\n",
        "  mejor_distancia = math.inf\r\n",
        "  A,B = (),()\r\n",
        "  for i in range(len(L)):\r\n",
        "    for j in range(i+1,len(L)):\r\n",
        "      D= distancia(L[i],L[j])\r\n",
        "      if D < mejor_distancia:\r\n",
        "        A,B=L[i],L[j]\r\n",
        "        mejor_distancia = D\r\n",
        "  return[A,B,distancia(A, B)]\r\n",
        "\r\n",
        "print(distancia3D(Vector3D))"
      ],
      "execution_count": 29,
      "outputs": [
        {
          "output_type": "stream",
          "text": [
            "[(87, 91, 15), (87, 88, 14), 3.1622776601683795]\n"
          ],
          "name": "stdout"
        }
      ]
    }
  ]
}