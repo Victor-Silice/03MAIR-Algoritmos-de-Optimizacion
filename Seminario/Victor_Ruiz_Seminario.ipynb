{
  "nbformat": 4,
  "nbformat_minor": 0,
  "metadata": {
    "colab": {
      "name": "Victor_Ruiz_Seminario.ipynb",
      "provenance": [],
      "collapsed_sections": [],
      "include_colab_link": true
    },
    "kernelspec": {
      "display_name": "Python 3",
      "language": "python",
      "name": "python3"
    },
    "language_info": {
      "codemirror_mode": {
        "name": "ipython",
        "version": 3
      },
      "file_extension": ".py",
      "mimetype": "text/x-python",
      "name": "python",
      "nbconvert_exporter": "python",
      "pygments_lexer": "ipython3",
      "version": "3.8.3"
    }
  },
  "cells": [
    {
      "cell_type": "markdown",
      "metadata": {
        "id": "view-in-github",
        "colab_type": "text"
      },
      "source": [
        "<a href=\"https://colab.research.google.com/github/Victor-Silice/03MAIR-Algoritmos-de-Optimizacion/blob/main/Seminario/Victor_Ruiz_Seminario.ipynb\" target=\"_parent\"><img src=\"https://colab.research.google.com/assets/colab-badge.svg\" alt=\"Open In Colab\"/></a>"
      ]
    },
    {
      "cell_type": "markdown",
      "metadata": {
        "id": "O0qi8-WRmIFn"
      },
      "source": [
        "### Algoritmos de optimización\n",
        "Nombre y Apellidos: Victor Ruiz Ramos\n",
        "\n",
        "https://colab.research.google.com/drive/1t7JBqXvsGZy4AtkltTnhafTww4mHT1P-#scrollTo=Z9dYfZL6n0jB\n",
        "\n",
        "https://github.com/Victor-Silice/03MAIR-Algoritmos-de-Optimizacion/blob/main/Seminario/Victor_Ruiz_Seminario.ipynb\n",
        "\n",
        "    \n",
        "Problema:\n",
        "    \n",
        "\n",
        ">- Combinar cifras y operaciones. El trabajo consiste en combinar los numeros del 1 al 9 con los operandos de suma(+), resta(-), multiplicacion(*) y division(/) para, dado un valor, conseguir la combinacion de numeros y operandos que con las operaciones adecuadas nos den el valor esperado. \n",
        "\n"
      ]
    },
    {
      "cell_type": "markdown",
      "metadata": {
        "id": "irzp0q_VmSe_"
      },
      "source": [
        "(*)¿Cuantas posibilidades hay sin tener en cuenta las restricciones?<br>"
      ]
    },
    {
      "cell_type": "markdown",
      "metadata": {
        "id": "YUWAajtpKpKD"
      },
      "source": [
        "\n",
        "Las combinaciones posibles sin tener en cuenta las restricciones en cuanto a repeticion de numeros y orden de los operandos con los que trabajamos es de las combinaciones de 5 numeros tomados del 1 al 9 con repeticion y de las permutaciones posibles de los 4 operandos con este resultado:\n",
        "    (9^5 x 4!) = 1417176"
      ]
    },
    {
      "cell_type": "markdown",
      "metadata": {
        "id": "GdaPh2vSKpKD"
      },
      "source": [
        "¿Cuantas posibilidades hay teniendo en cuanta las restricciones?<br>"
      ]
    },
    {
      "cell_type": "markdown",
      "metadata": {
        "id": "wUxmqt5BKpKD"
      },
      "source": [
        "Las combinaciones posibles teniendo en cuenta las restricciones en cuanto a repeticion de numeros y orden de los operandos con los que trabajamos la siguient: (9x8x7x6x5) * 4! = 362880"
      ]
    },
    {
      "cell_type": "markdown",
      "metadata": {
        "id": "Akxj2DD_mYNG"
      },
      "source": [
        "Modelo para el espacio de soluciones<br>\n",
        "(*) ¿Cual es la estructura de datos que mejor se adapta al problema? Argumentalo.\n",
        "(Es posible que hayas elegido una al principio y veas la necesidad de cambiar, argumentalo)\n",
        "\n"
      ]
    },
    {
      "cell_type": "markdown",
      "metadata": {
        "id": "SfoaCs6oKpKE"
      },
      "source": [
        "La estructura de datos para este problema tal y como se plantea es de una lista de numeros Numeros=[1,2,3,4,5,6,7,8,9] y de una lista de operandos Operandos=['+', '-', '/', '*'] "
      ]
    },
    {
      "cell_type": "markdown",
      "metadata": {
        "id": "wkfuGsgumeHy"
      },
      "source": [
        "(*)¿Cual es la función objetivo?"
      ]
    },
    {
      "cell_type": "markdown",
      "metadata": {
        "id": "UOKR-yVzKpKE"
      },
      "source": [
        "La funcion objetivo es la siguiente:\n",
        "    \n",
        "Valor deseado = eval(Num[i]+Op[a]+Num[j]+Op[b]+Num[k]+Op[c]+Num[l]+Op[d]+Num[m])"
      ]
    },
    {
      "cell_type": "markdown",
      "metadata": {
        "id": "PJIVU98nKpKE"
      },
      "source": [
        "(*)¿Es un problema de maximización o minimización?"
      ]
    },
    {
      "cell_type": "markdown",
      "metadata": {
        "id": "xP41CladKpKE"
      },
      "source": [
        "No en un problema de maximizacion ni de minimizacion ya que el objetivo del mismo es la obtencion de una solucion, dado un valor, con las combinaciones adecuadas de numeros y operandos\n",
        "\n",
        "Lo que se pretende con los algoritmos adecuados seria encontrar la solucion de la manera mas rapida y optimizada posible."
      ]
    },
    {
      "cell_type": "code",
      "metadata": {
        "id": "pVRi57isKpKF"
      },
      "source": [
        "#Importar librerias\n",
        "\n",
        "import math\n",
        "import numpy as np\n",
        "import pandas as pd\n",
        "import random\n",
        "from time import time\n",
        "from itertools import permutations\n"
      ],
      "execution_count": 1,
      "outputs": []
    },
    {
      "cell_type": "code",
      "metadata": {
        "colab": {
          "base_uri": "https://localhost:8080/",
          "height": 69
        },
        "id": "maJhbK8alMoo",
        "scrolled": true,
        "outputId": "37e76561-c453-4f73-f2a1-e882f3b0a9df"
      },
      "source": [
        "#Diseña un algoritmo para resolver el problema por fuerza bruta\n",
        "#para la combinacion de cifras del 1 al 9 sin repeticion y con los operadores +, -, /, *\n",
        "\n",
        "def FuerzaBruta(ValorObjetivo): \n",
        "    \n",
        "    SinRepeticion, ConRepeticion, Ciclos = 0, 0, 0\n",
        "    Combinacion = []\n",
        "\n",
        "    # Con los bucles for ejecutamos todas la combinaciones posibles con los numeros del 1 al 9\n",
        "    for a in range(1,10):\n",
        "        for b in range(1,10):\n",
        "            for c in range(1,10):\n",
        "                for d in range(1,10):\n",
        "                    for e in range(1,10):\n",
        "                        #Hacemos las combinaciones posibles de los operadores aritmeticos\n",
        "                        for x in permutations(['+', '-', '/', '*'], 4):\n",
        "                            #construccion de la expresion\n",
        "                            Cadena = str(a) + x[0] + str(b) + x[1] + str(c) + x[2] + str(d) + x[3] + str(e)\n",
        "                            Resultado =  eval(Cadena)\n",
        "                            #Comprobamos los resultados con el valor objetivo\n",
        "                            if (Resultado == ValorObjetivo) :  \n",
        "                                aux=[a,b,c,d,e]\n",
        "                                #Comprobamos que no hay ningun numero repetido en el array\n",
        "                                if (len(set(aux)) == 5):\n",
        "                                    #Contamos las combinaciones posibles sin repeticion\n",
        "                                    SinRepeticion += 1\n",
        "                                    #print(f\"Combinacion {SinRepeticion} sin repeticion {aux}\")\n",
        "                                    Combinacion = Cadena\n",
        "                                    return(Combinacion, Ciclos)\n",
        "                                else:\n",
        "                                    #Contamos las combinaciones posibles con repeticion\n",
        "                                    ConRepeticion +=1\n",
        "                            # Contamos el numero total de ciclos para comprobar todas las combinaciones posibles.\n",
        "                            Ciclos += 1\n",
        "                            \n",
        "    if (SinRepeticion == 0  and ConRepeticion == 0): \n",
        "        print(f\"No hay combinaciones posibles para el valor de entrada {ValorObjetivo}\") \n",
        "    else:\n",
        "        print(f\"El numero total de combinaciones posibles es {Ciclos}\")\n",
        "        print(f\"El numero total de combinaciones posibles sin repeticion es {SinRepeticion}\")\n",
        "        print(f\"El numero total de combinaciones posibles con repeticion es {ConRepeticion}\")\n",
        "\n",
        "    return(Combinacion)\n",
        "\n",
        "def Limites():\n",
        "    Minimo, Maximo = math.inf, -math.inf\n",
        "    for a in range(1,10):\n",
        "        for b in range(1,10):\n",
        "            for c in range(1,10):\n",
        "                for d in range(1,10):\n",
        "                    for e in range(1,10):\n",
        "                        for x in permutations(['+', '-', '/', '*'], 4):\n",
        "                            Cadena = str(a) + x[0] + str(b) + x[1] + str(c) + x[2] + str(d) + x[3] + str(e)\n",
        "                            Resultado =  eval(Cadena)\n",
        "                            if Resultado < Minimo: Minimo = Resultado\n",
        "                            if Resultado > Maximo: Maximo = Resultado                             \n",
        "    return (int(Minimo), int(Maximo))\n",
        "\n",
        "TiempoInicial = time() \n",
        "display (FuerzaBruta(-33))\n",
        "TiempoFinal = time()\n",
        "\n",
        "print(f\"El tiempo de ejecucion de esta funcion es de {round(TiempoFinal-TiempoInicial, 5)} segundos\")\n",
        "print(f\"intervalo de resultados para todas las combinaciones es de {Limites()}\")\n",
        "\n"
      ],
      "execution_count": 2,
      "outputs": [
        {
          "output_type": "display_data",
          "data": {
            "text/plain": [
              "('1-4*9+6/3', 69178)"
            ]
          },
          "metadata": {
            "tags": []
          }
        },
        {
          "output_type": "stream",
          "text": [
            "El tiempo de ejecucion de esta funcion es de 0.57352 segundos\n",
            "intervalo de resultados para todas las combinaciones es de (-79, 89)\n"
          ],
          "name": "stdout"
        }
      ]
    },
    {
      "cell_type": "markdown",
      "metadata": {
        "id": "5XlZBL1dm11X"
      },
      "source": [
        "Calcula la complejidad del algoritmo por fuerza bruta\n"
      ]
    },
    {
      "cell_type": "markdown",
      "metadata": {
        "id": "3ExQ-GOfKpKG"
      },
      "source": [
        "Este algoritmo hace iteraciones con todos los numeros del 1 al 9, para esto se necesitan 5 numeros para los 4 operandos de que disponemos\n",
        "\n",
        "Tenemos 5 bucle anidados de numeros y otro bucle anidado de operandos (permutaciones) $$O(n6)$$\n",
        "\n"
      ]
    },
    {
      "cell_type": "markdown",
      "metadata": {
        "id": "C3QwrIuuKpKG"
      },
      "source": [
        "(*)Diseña un algoritmo que mejore la complejidad del algortimo por fuerza bruta. Argumenta porque crees que mejora el algoritmo por fuerza bruta"
      ]
    },
    {
      "cell_type": "code",
      "metadata": {
        "scrolled": true,
        "colab": {
          "base_uri": "https://localhost:8080/"
        },
        "id": "P8uaXjofKpKH",
        "outputId": "c29d6edf-0d84-4932-894c-16ab03d004fc"
      },
      "source": [
        "\n",
        "def Combinacion(ValorObjetivo):\n",
        "    contador =0\n",
        "    Ciclos = 0\n",
        "    \n",
        "    A=[1,2,3,4,5,6,7,8,9]\n",
        "\n",
        "    #Esta evolucion del algoritmo por fuerza bruta mejora la ejecucion\n",
        "    #porque solo se ejecutan los bucles sin que los numeros esten repetidos\n",
        "    for i, aa in enumerate(A):\n",
        "        a=A.copy()\n",
        "        a.pop(i)\n",
        "        B=a[:].copy()\n",
        "        for j, bb in enumerate(B):\n",
        "            b=B.copy()\n",
        "            b.pop(j)\n",
        "            C=b[:].copy()\n",
        "            for k, cc in enumerate(C):\n",
        "                c=C.copy()\n",
        "                c.pop(k)\n",
        "                D=c[:].copy()\n",
        "                for l, dd in enumerate(D):\n",
        "                    d=D.copy()\n",
        "                    d.pop(l)\n",
        "                    E=d[:].copy()\n",
        "                    for m, ee in enumerate(E):\n",
        "                        #Hacemos las combinaciones posibles de los operadores aritmeticos\n",
        "                        for x in permutations(['+', '-', '/', '*'], 4):\n",
        "                            Cadena = str(aa) + x[0] + str(bb) + x[1] + str(cc) + x[2] + str(dd) + x[3] + str(ee)\n",
        "                            Resultado =  eval(Cadena)\n",
        "                            #Comprobamos los resultados con el valor objetivo\n",
        "                            if (Resultado == ValorObjetivo) : return(Cadena, Ciclos)\n",
        "                            Ciclos += 1                    \n",
        "\n",
        "         \n",
        "    return(Ciclos)          \n",
        "                    \n",
        "TiempoInicial = time() \n",
        "print(Combinacion(-33))\n",
        "TiempoFinal = time()\n",
        "\n",
        "print(f\"El tiempo de ejecucion de esta funcion es de {round(TiempoFinal-TiempoInicial, 5)} segundos\")"
      ],
      "execution_count": 3,
      "outputs": [
        {
          "output_type": "stream",
          "text": [
            "('1-4*9+6/3', 14794)\n",
            "El tiempo de ejecucion de esta funcion es de 0.12264 segundos\n"
          ],
          "name": "stdout"
        }
      ]
    },
    {
      "cell_type": "markdown",
      "metadata": {
        "id": "1O4fsdJKKpKH"
      },
      "source": [
        "(*)Calcula la complejidad del algoritmo"
      ]
    },
    {
      "cell_type": "markdown",
      "metadata": {
        "id": "NhPnanGGKpKI"
      },
      "source": [
        "     "
      ]
    },
    {
      "cell_type": "markdown",
      "metadata": {
        "id": "1l05r8BFnPld"
      },
      "source": [
        "Según el problema (y tenga sentido), diseña un juego de datos de entrada aleatorios"
      ]
    },
    {
      "cell_type": "code",
      "metadata": {
        "colab": {
          "base_uri": "https://localhost:8080/"
        },
        "id": "wkF50612nRsa",
        "scrolled": true,
        "outputId": "7d27b451-19a0-41cd-8577-df9dcedd8dc5"
      },
      "source": [
        "# Variables con las opciones de direccion, movimiento\n",
        "# para el movimiento de un posible juego \n",
        "\n",
        "PuntosCardinales = [\"Norte\", \"Sur\", \"Este\", \"Oeste\", \"Noreste\", \"Noroeste\", \"Sureste\", \"Suroeste\"]\n",
        "\n",
        "Direccion  = random.choice(PuntosCardinales)\n",
        "Movimiento = round(random.random(), 5)\n",
        "\n",
        "print(\"Direccion = \", Direccion, \"\\nCantidad de movimiento = \", Movimiento)\n",
        "\n",
        "\n",
        "\n"
      ],
      "execution_count": 4,
      "outputs": [
        {
          "output_type": "stream",
          "text": [
            "Direccion =  Sur \n",
            "Cantidad de movimiento =  0.00619\n"
          ],
          "name": "stdout"
        }
      ]
    },
    {
      "cell_type": "markdown",
      "metadata": {
        "id": "dmOFavXgnymh"
      },
      "source": [
        "Enumera las referencias que has utilizado(si ha sido necesario) para llevar a cabo el trabajo\n",
        "\n",
        "\n",
        "    "
      ]
    },
    {
      "cell_type": "code",
      "metadata": {
        "id": "j8AFCzeYKpKI"
      },
      "source": [
        "https://docs.python.org/3/library/random.html\n",
        "https://docs.python.org/3/library/itertools.html\n",
        "    "
      ],
      "execution_count": null,
      "outputs": []
    },
    {
      "cell_type": "markdown",
      "metadata": {
        "id": "Z9dYfZL6n0jB"
      },
      "source": [
        "Describe brevemente las lineas de como crees que es posible avanzar en el estudio del problema. Ten en cuenta incluso posibles variaciones del problema y/o variaciones al alza del tamaño"
      ]
    },
    {
      "cell_type": "markdown",
      "metadata": {
        "id": "sVhYE94jn3IU"
      },
      "source": [
        "Se podria observar la cadencia de los numeros en todas las combinciones posibles y obtener una distribucion de probabilidad\n",
        "de cada uno de ellos, para de esa manera, poderle asignar a la hora de escoger los numeros una probabilidad especifica. "
      ]
    }
  ]
}